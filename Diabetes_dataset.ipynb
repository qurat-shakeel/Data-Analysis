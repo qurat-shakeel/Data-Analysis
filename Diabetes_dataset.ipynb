{
  "nbformat": 4,
  "nbformat_minor": 0,
  "metadata": {
    "colab": {
      "provenance": []
    },
    "kernelspec": {
      "name": "python3",
      "display_name": "Python 3"
    },
    "language_info": {
      "name": "python"
    }
  },
  "cells": [
    {
      "cell_type": "code",
      "execution_count": 18,
      "metadata": {
        "colab": {
          "base_uri": "https://localhost:8080/"
        },
        "id": "jcolrSRAIJeQ",
        "outputId": "d73ff68a-b6a0-4db4-8b7b-4be8a213d4cb"
      },
      "outputs": [
        {
          "output_type": "stream",
          "name": "stdout",
          "text": [
            "   Pregnancies  Glucose  BloodPressure  SkinThickness  Insulin   BMI  \\\n",
            "0            6      148             72             35        0  33.6   \n",
            "1            1       85             66             29        0  26.6   \n",
            "2            8      183             64              0        0  23.3   \n",
            "3            1       89             66             23       94  28.1   \n",
            "4            0      137             40             35      168  43.1   \n",
            "\n",
            "   DiabetesPedigreeFunction  Age  Outcome  \n",
            "0                     0.627   50        1  \n",
            "1                     0.351   31        0  \n",
            "2                     0.672   32        1  \n",
            "3                     0.167   21        0  \n",
            "4                     2.288   33        1  \n"
          ]
        }
      ],
      "source": [
        "import pandas as pd\n",
        "\n",
        "\n",
        "df = pd.read_csv('diabetes.csv')\n",
        "\n",
        "\n",
        "print(df.head())\n"
      ]
    },
    {
      "cell_type": "code",
      "source": [
        "# Get the number of records\n",
        "num_records = df.shape[0]\n",
        "\n",
        "print(\"Number of records in the Pima Indian Diabetes Dataset:\", num_records)\n"
      ],
      "metadata": {
        "colab": {
          "base_uri": "https://localhost:8080/"
        },
        "id": "RJEbKBtMJ0xJ",
        "outputId": "02f4fcb4-da1c-4853-b817-31768e5e11ac"
      },
      "execution_count": 19,
      "outputs": [
        {
          "output_type": "stream",
          "name": "stdout",
          "text": [
            "Number of records in the Pima Indian Diabetes Dataset: 768\n"
          ]
        }
      ]
    },
    {
      "cell_type": "code",
      "source": [
        "# Calculate the maximum age\n",
        "max_age = df['Age'].max()\n",
        "\n",
        "print(\"Maximum age of records in the Pima Indian Diabetes Dataset:\", max_age)"
      ],
      "metadata": {
        "colab": {
          "base_uri": "https://localhost:8080/"
        },
        "id": "SXs43B3QJ_aR",
        "outputId": "dcb2be3c-ec36-40ef-8195-2d6ea8898a05"
      },
      "execution_count": 20,
      "outputs": [
        {
          "output_type": "stream",
          "name": "stdout",
          "text": [
            "Maximum age of records in the Pima Indian Diabetes Dataset: 81\n"
          ]
        }
      ]
    },
    {
      "cell_type": "code",
      "source": [
        "# Calculate the number of missing values in the \"pregnancies\" column\n",
        "missing_pregnancies = df['Pregnancies'].isnull().sum()\n",
        "\n",
        "# Display the number of missing values in the \"pregnancies\" column\n",
        "print(\"Missing values in the 'pregnancies' column:\", missing_pregnancies)\n"
      ],
      "metadata": {
        "colab": {
          "base_uri": "https://localhost:8080/"
        },
        "id": "9BzXx7bENeHi",
        "outputId": "7c4b9c47-81bb-4a31-df22-20f3848f025b"
      },
      "execution_count": 21,
      "outputs": [
        {
          "output_type": "stream",
          "name": "stdout",
          "text": [
            "Missing values in the 'pregnancies' column: 0\n"
          ]
        }
      ]
    },
    {
      "cell_type": "code",
      "source": [
        "# Calculate the number of missing values in the \"Glucose\" column\n",
        "missing_Glucose = df['Glucose'].isnull().sum()\n",
        "\n",
        "# Display the number of missing values in the \"Glucose\" column\n",
        "print(\"Missing values in the 'Glucose' column:\", missing_Glucose)"
      ],
      "metadata": {
        "colab": {
          "base_uri": "https://localhost:8080/"
        },
        "id": "aesbtuP0Nrcy",
        "outputId": "125c75d7-7ab1-48c5-c8ee-22bfd5bad17d"
      },
      "execution_count": 22,
      "outputs": [
        {
          "output_type": "stream",
          "name": "stdout",
          "text": [
            "Missing values in the 'Glucose' column: 0\n"
          ]
        }
      ]
    },
    {
      "cell_type": "code",
      "source": [
        "# Calculate the number of missing values in the \"Blood Pressure\" column\n",
        "missing_BloodPressure = df['BloodPressure'].isnull().sum()\n",
        "\n",
        "# Display the number of missing values in the \"Blood Pressure\" column\n",
        "print(\"Missing values in the 'Blood Pressure' column:\", missing_BloodPressure)"
      ],
      "metadata": {
        "colab": {
          "base_uri": "https://localhost:8080/"
        },
        "id": "SGOXpwLJNwcl",
        "outputId": "2833d01e-b704-4144-9b8b-0cf04854c4a3"
      },
      "execution_count": 24,
      "outputs": [
        {
          "output_type": "stream",
          "name": "stdout",
          "text": [
            "Missing values in the 'Blood Pressure' column: 0\n"
          ]
        }
      ]
    },
    {
      "cell_type": "code",
      "source": [
        "# Calculate the number of missing values in the \"Skin Thickness\" column\n",
        "missing_SkinThickness = df['SkinThickness'].isnull().sum()\n",
        "\n",
        "# Display the number of missing values in the \"SkinThickness\" column\n",
        "print(\"Missing values in the 'SkinThickness' column:\", missing_SkinThickness)"
      ],
      "metadata": {
        "colab": {
          "base_uri": "https://localhost:8080/"
        },
        "id": "mv4jjqHVNz30",
        "outputId": "ce97ad9d-5a18-45d8-835c-792f432f9533"
      },
      "execution_count": 25,
      "outputs": [
        {
          "output_type": "stream",
          "name": "stdout",
          "text": [
            "Missing values in the 'SkinThickness' column: 0\n"
          ]
        }
      ]
    },
    {
      "cell_type": "code",
      "source": [
        "# Calculate the number of missing values in the \"Insulin\" column\n",
        "missing_Insulin = df['Insulin'].isnull().sum()\n",
        "\n",
        "# Display the number of missing values in the \"Inslin\" column\n",
        "print(\"Missing values in the 'Insulin' column:\", missing_Insulin)"
      ],
      "metadata": {
        "colab": {
          "base_uri": "https://localhost:8080/"
        },
        "id": "RW4S-_snN8MS",
        "outputId": "fc6576c3-8c29-4a03-f6ee-7cb74d4ea1de"
      },
      "execution_count": 31,
      "outputs": [
        {
          "output_type": "stream",
          "name": "stdout",
          "text": [
            "Missing values in the 'Insulin' column: 0\n"
          ]
        }
      ]
    },
    {
      "cell_type": "code",
      "source": [
        "# Calculate the number of missing values in the \"BMI\" column\n",
        "missing_BMI = df['BMI'].isnull().sum()\n",
        "\n",
        "# Display the number of missing values in the \"BMI\" column\n",
        "print(\"Missing values in the 'BMI' column:\", missing_BMI)"
      ],
      "metadata": {
        "colab": {
          "base_uri": "https://localhost:8080/"
        },
        "id": "hIDz3hd9OALq",
        "outputId": "29fd5db3-0394-4086-a636-2659b5be52e2"
      },
      "execution_count": 26,
      "outputs": [
        {
          "output_type": "stream",
          "name": "stdout",
          "text": [
            "Missing values in the 'BMI' column: 0\n"
          ]
        }
      ]
    },
    {
      "cell_type": "code",
      "source": [
        "\n",
        "# Calculate the number of missing values in the \"DiabetesPedigreeFunction\" column\n",
        "missing_DiabetesPedigreeFunction = df['DiabetesPedigreeFunction'].isnull().sum()\n",
        "\n",
        "# Display the number of missing values in the \"DiabetesPedigreeFunction\" column\n",
        "print(\"Missing values in the 'DiabetesPedigreeFunction' column:\", missing_DiabetesPedigreeFunction)"
      ],
      "metadata": {
        "colab": {
          "base_uri": "https://localhost:8080/"
        },
        "id": "eDzf9tsHODyk",
        "outputId": "15c28981-41ef-4c3d-c52e-6d2b984d8b76"
      },
      "execution_count": 27,
      "outputs": [
        {
          "output_type": "stream",
          "name": "stdout",
          "text": [
            "Missing values in the 'DiabetesPedigreeFunction' column: 0\n"
          ]
        }
      ]
    },
    {
      "cell_type": "code",
      "source": [
        "# Calculate the number of missing values in the \"Age\" column\n",
        "missing_Age = df['Age'].isnull().sum()\n",
        "\n",
        "# Display the number of missing values in the \"Age\" column\n",
        "print(\"Missing values in the 'Age' column:\", missing_Age)"
      ],
      "metadata": {
        "colab": {
          "base_uri": "https://localhost:8080/"
        },
        "id": "PSaRbuy7OR10",
        "outputId": "9bf63770-d7b1-4737-8986-ef27d9056dba"
      },
      "execution_count": 28,
      "outputs": [
        {
          "output_type": "stream",
          "name": "stdout",
          "text": [
            "Missing values in the 'Age' column: 0\n"
          ]
        }
      ]
    },
    {
      "cell_type": "code",
      "source": [
        "# Calculate the number of missing values in the \"Outcome\" column\n",
        "missing_Outcome = df['Outcome'].isnull().sum()\n",
        "\n",
        "# Display the number of missing values in the \"Outcome\" column\n",
        "print(\"Missing values in the 'Outcome' column:\", missing_Outcome)"
      ],
      "metadata": {
        "colab": {
          "base_uri": "https://localhost:8080/"
        },
        "id": "WdfSxorGOWto",
        "outputId": "f8767be1-2ed7-4984-8fc7-807afad591c4"
      },
      "execution_count": 29,
      "outputs": [
        {
          "output_type": "stream",
          "name": "stdout",
          "text": [
            "Missing values in the 'Outcome' column: 0\n"
          ]
        }
      ]
    },
    {
      "cell_type": "code",
      "source": [
        "import numpy as np\n",
        "# Replace zero values with NaN\n",
        "df.replace(0, np.nan, inplace=True)\n",
        "\n",
        "# Now, all zero values in the DataFrame have been replaced with NaN\n",
        "\n"
      ],
      "metadata": {
        "id": "z9-CNX0VUuql"
      },
      "execution_count": 33,
      "outputs": []
    },
    {
      "cell_type": "code",
      "source": [
        "# Calculate the total number of NaN values\n",
        "total_nan_values = df.isna().sum().sum()\n",
        "print(\"Total NaN values in the dataset:\", total_nan_values)\n"
      ],
      "metadata": {
        "colab": {
          "base_uri": "https://localhost:8080/"
        },
        "id": "ZJZHITRrpP0Q",
        "outputId": "3b8a4f3b-f2dc-4e24-8686-7896b9997456"
      },
      "execution_count": 34,
      "outputs": [
        {
          "output_type": "stream",
          "name": "stdout",
          "text": [
            "Total NaN values in the dataset: 1263\n"
          ]
        }
      ]
    },
    {
      "cell_type": "code",
      "source": [
        "# Calculate the number of NaN values in each column\n",
        "nan_values_per_column = df.isna().sum()\n",
        "print(\"NaN values in each column:\")\n",
        "print(nan_values_per_column)\n"
      ],
      "metadata": {
        "colab": {
          "base_uri": "https://localhost:8080/"
        },
        "id": "oKAx3X4Jo5Vd",
        "outputId": "579445aa-a5ab-4281-e617-d9e7586517c0"
      },
      "execution_count": 35,
      "outputs": [
        {
          "output_type": "stream",
          "name": "stdout",
          "text": [
            "NaN values in each column:\n",
            "Pregnancies                 111\n",
            "Glucose                       5\n",
            "BloodPressure                35\n",
            "SkinThickness               227\n",
            "Insulin                     374\n",
            "BMI                          11\n",
            "DiabetesPedigreeFunction      0\n",
            "Age                           0\n",
            "Outcome                     500\n",
            "dtype: int64\n"
          ]
        }
      ]
    },
    {
      "cell_type": "code",
      "source": [
        "age_groups_positive = diabetes_positive.groupby(pd.cut(diabetes_positive['Age'], bins=range(0, 101, 10))).size()\n"
      ],
      "metadata": {
        "id": "h9WBoFpIvgGq"
      },
      "execution_count": 46,
      "outputs": []
    },
    {
      "cell_type": "code",
      "source": [
        "age_groups_negative = diabetes_negative.groupby(pd.cut(diabetes_negative['Age'], bins=range(0, 101, 10))).size()\n"
      ],
      "metadata": {
        "id": "qOhB5ZppvlTb"
      },
      "execution_count": 47,
      "outputs": []
    },
    {
      "cell_type": "code",
      "source": [
        "\n",
        "# Split the dataset into individuals with and without diabetes\n",
        "diabetes_positive = df[df['Outcome'] == 1]\n",
        "diabetes_negative = df[df['Outcome'] == 0]\n",
        "\n",
        "# Calculate the proportion of individuals with diabetes for each age group\n",
        "age_groups_positive = diabetes_positive.groupby(pd.cut(diabetes_positive['Age'], bins=range(0, 101, 10))).size()\n",
        "age_groups_negative = diabetes_negative.groupby(pd.cut(diabetes_negative['Age'], bins=range(0, 101, 10))).size()\n",
        "\n",
        "# Combine the counts of individuals with and without diabetes for each age group\n",
        "age_groups_combined = pd.concat([age_groups_positive, age_groups_negative], axis=1)\n",
        "age_groups_combined.columns = ['Diabetes Positive', 'Diabetes Negative']\n",
        "\n",
        "# Calculate the proportion of individuals with diabetes for each age group\n",
        "age_groups_combined['Diabetes Proportion'] = age_groups_combined['Diabetes Positive'] / (age_groups_combined['Diabetes Positive'] + age_groups_combined['Diabetes Negative'])\n",
        "\n",
        "# Find the age group with the highest proportion of individuals with diabetes\n",
        "max_prone_age_group = age_groups_combined['Diabetes Proportion'].idxmax()\n",
        "\n",
        "print(\"Age group most prone to diabetes:\", max_prone_age_group)\n"
      ],
      "metadata": {
        "colab": {
          "base_uri": "https://localhost:8080/"
        },
        "id": "rpFbjvJYqkFt",
        "outputId": "db343aab-1ea5-4b16-8ef7-bac6ecee5bcd"
      },
      "execution_count": 56,
      "outputs": [
        {
          "output_type": "stream",
          "name": "stdout",
          "text": [
            "Age group most prone to diabetes: (20, 30]\n"
          ]
        }
      ]
    }
  ]
}