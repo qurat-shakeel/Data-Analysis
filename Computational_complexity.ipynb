{
  "nbformat": 4,
  "nbformat_minor": 0,
  "metadata": {
    "colab": {
      "provenance": []
    },
    "kernelspec": {
      "name": "python3",
      "display_name": "Python 3"
    },
    "language_info": {
      "name": "python"
    }
  },
  "cells": [
    {
      "cell_type": "code",
      "execution_count": 3,
      "metadata": {
        "colab": {
          "base_uri": "https://localhost:8080/"
        },
        "id": "6Hp-tDDhrDNh",
        "outputId": "586f4a88-6a12-4893-a23b-4accc35d0169"
      },
      "outputs": [
        {
          "output_type": "execute_result",
          "data": {
            "text/plain": [
              "[70,\n",
              " 62,\n",
              " 7,\n",
              " 3,\n",
              " 1,\n",
              " 15,\n",
              " 90,\n",
              " 83,\n",
              " 93,\n",
              " 14,\n",
              " 74,\n",
              " 10,\n",
              " 45,\n",
              " 44,\n",
              " 71,\n",
              " 28,\n",
              " 2,\n",
              " 27,\n",
              " 26,\n",
              " 24,\n",
              " 89,\n",
              " 18,\n",
              " 6,\n",
              " 17,\n",
              " 82,\n",
              " 98,\n",
              " 78,\n",
              " 34,\n",
              " 38,\n",
              " 25,\n",
              " 72,\n",
              " 86,\n",
              " 33,\n",
              " 35,\n",
              " 68,\n",
              " 40,\n",
              " 81,\n",
              " 99,\n",
              " 55,\n",
              " 67,\n",
              " 19,\n",
              " 54,\n",
              " 41,\n",
              " 77,\n",
              " 59,\n",
              " 46,\n",
              " 63,\n",
              " 84,\n",
              " 60,\n",
              " 37,\n",
              " 53,\n",
              " 0,\n",
              " 49,\n",
              " 4,\n",
              " 5,\n",
              " 61,\n",
              " 96,\n",
              " 88,\n",
              " 30,\n",
              " 94,\n",
              " 80,\n",
              " 91,\n",
              " 20,\n",
              " 16,\n",
              " 43,\n",
              " 13,\n",
              " 47,\n",
              " 51,\n",
              " 31,\n",
              " 52,\n",
              " 97,\n",
              " 76,\n",
              " 58,\n",
              " 11,\n",
              " 39,\n",
              " 75,\n",
              " 48,\n",
              " 92,\n",
              " 36,\n",
              " 57,\n",
              " 87,\n",
              " 8,\n",
              " 73,\n",
              " 85,\n",
              " 50,\n",
              " 29,\n",
              " 65,\n",
              " 64,\n",
              " 66,\n",
              " 79,\n",
              " 56,\n",
              " 21,\n",
              " 22,\n",
              " 69,\n",
              " 42,\n",
              " 32,\n",
              " 23,\n",
              " 95,\n",
              " 9,\n",
              " 12]"
            ]
          },
          "metadata": {},
          "execution_count": 3
        }
      ],
      "source": [
        "import numpy as np\n",
        "import random\n",
        "l = list(range(100))\n",
        "random.shuffle(l)\n",
        "l"
      ]
    },
    {
      "cell_type": "code",
      "source": [
        "# search for an element q in the list : O(n) where n is the length of the list\n",
        "q=31\n",
        "isFound = False;\n",
        "for ele in l:\n",
        "  if ele==31:\n",
        "    print(\"Found\")\n",
        "    isFound=True\n",
        "    break;\n",
        "if isFound == False:\n",
        "  print(\"Not Found\")"
      ],
      "metadata": {
        "colab": {
          "base_uri": "https://localhost:8080/"
        },
        "id": "4V_DNYglr3XQ",
        "outputId": "eb0eb785-0131-4670-defa-a85c014e9643"
      },
      "execution_count": 4,
      "outputs": [
        {
          "output_type": "stream",
          "name": "stdout",
          "text": [
            "Found\n"
          ]
        }
      ]
    },
    {
      "cell_type": "code",
      "source": [
        "\n",
        "l1 = list(range(100))\n",
        "random.shuffle(l1)\n",
        "l2 = list(range(50))\n",
        "random.shuffle(l2)\n",
        "smallList={}\n",
        "for ele in l2:\n",
        "  smallList[ele] = 1\n",
        "\n",
        "cnt = 0\n",
        "for i in l1:\n",
        "  if smallList.get(i):\n",
        "\n",
        "    print(i)\n",
        "    cnt +=1\n",
        "\n",
        "print(\"number of common elements\", cnt)"
      ],
      "metadata": {
        "id": "2UaWGgqE4YDo",
        "colab": {
          "base_uri": "https://localhost:8080/"
        },
        "outputId": "006006aa-ae61-4228-fee2-c7607cdace95"
      },
      "execution_count": 19,
      "outputs": [
        {
          "output_type": "stream",
          "name": "stdout",
          "text": [
            "30\n",
            "5\n",
            "39\n",
            "24\n",
            "0\n",
            "17\n",
            "14\n",
            "41\n",
            "12\n",
            "13\n",
            "46\n",
            "48\n",
            "32\n",
            "35\n",
            "38\n",
            "36\n",
            "40\n",
            "21\n",
            "27\n",
            "20\n",
            "8\n",
            "26\n",
            "15\n",
            "43\n",
            "11\n",
            "4\n",
            "47\n",
            "1\n",
            "29\n",
            "7\n",
            "28\n",
            "42\n",
            "44\n",
            "9\n",
            "6\n",
            "33\n",
            "22\n",
            "23\n",
            "25\n",
            "3\n",
            "2\n",
            "37\n",
            "16\n",
            "18\n",
            "10\n",
            "34\n",
            "19\n",
            "49\n",
            "45\n",
            "31\n",
            "number of common elements 50\n"
          ]
        }
      ]
    },
    {
      "cell_type": "code",
      "source": [
        "# find common elements in two lists\n",
        "l1 = list(range(100))\n",
        "random.shuffle(l1)\n",
        "\n",
        "l2 = list(range(50))\n",
        "random.shuffle(l2)\n",
        "\n",
        "cnt =0\n",
        "for i in l1:\n",
        "  for j in l2:\n",
        "    if i==j:\n",
        "      print(i)\n",
        "      cnt +=1\n",
        "print(\"number of common elements\", cnt)"
      ],
      "metadata": {
        "colab": {
          "base_uri": "https://localhost:8080/"
        },
        "id": "A4X0O0iGarX0",
        "outputId": "7977e3f2-28e4-4eff-a13a-cf6d7d144e25"
      },
      "execution_count": 20,
      "outputs": [
        {
          "output_type": "stream",
          "name": "stdout",
          "text": [
            "16\n",
            "18\n",
            "15\n",
            "32\n",
            "49\n",
            "31\n",
            "21\n",
            "24\n",
            "29\n",
            "43\n",
            "44\n",
            "36\n",
            "6\n",
            "28\n",
            "39\n",
            "40\n",
            "34\n",
            "30\n",
            "8\n",
            "5\n",
            "17\n",
            "19\n",
            "25\n",
            "14\n",
            "11\n",
            "41\n",
            "20\n",
            "4\n",
            "46\n",
            "2\n",
            "37\n",
            "23\n",
            "12\n",
            "33\n",
            "48\n",
            "13\n",
            "47\n",
            "27\n",
            "45\n",
            "3\n",
            "38\n",
            "7\n",
            "22\n",
            "35\n",
            "1\n",
            "26\n",
            "0\n",
            "10\n",
            "9\n",
            "42\n",
            "number of common elements 50\n"
          ]
        }
      ]
    }
  ]
}